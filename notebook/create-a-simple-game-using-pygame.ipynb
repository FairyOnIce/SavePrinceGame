{
 "cells": [
  {
   "cell_type": "markdown",
   "metadata": {},
   "source": [
    "![Example Gif](https://media.giphy.com/media/xThtaajEQpcpsghazC/giphy.gif)"
   ]
  },
  {
   "cell_type": "markdown",
   "metadata": {},
   "source": [
    "The above gif is my very first game. In this blog post, I will introduce a very simple game created using pygame. \n",
    "\n",
    "## What is this game about?\n",
    "In this game, you are a \"princess\" and the goal is to rescue \"price\". But be careful, there is a snake monster that could hit you!\n",
    "\n",
    "## I used pygame.\n",
    "This pygame library is really REALLY amazing for creating a game. \n",
    "I originally thought that creating game needs a \"serious\" computer science degree, and it is out of my reach. Creating graphical user interface seemed very complicated! How can my script accepts keyboard input, do calculation and then update the game screen accodingly? No worry, pygame will take care of such things, so you can focus on creating game logics (e.g., how to score points, what decides \"game over\"). [In fact the game above requires only about 400 lines.](https://github.com/FairyOnIce/SavePrinceGame/blob/master/SavePrince.py)\n",
    "\n",
    "## Where did I start?\n",
    "Did I take any online courses? Well, yes and no. All I did was follow [this great youtube series from thenewboston](https://www.youtube.com/watch?v=K5F-aGDIYaM). This series has many tutorial videos. I watched the first 40 (40!). Each tutorial is nicely modularized and takes only about 5 - 10 minutes. I would love to watch the rest later in my life! \n",
    "\n"
   ]
  },
  {
   "cell_type": "markdown",
   "metadata": {},
   "source": [
    "## Game features\n",
    "If you are interested in learning pygame from scratch, you should go to [thenewboston](https://www.youtube.com/watch?v=K5F-aGDIYaM).\n",
    "Here, I will show some features of my game, and how I did them.\n",
    "\n",
    "### The keyboad input are extracted in less than 20 lines. \n",
    "This is not really features of my game but I want to say where this is defined. Its defined\n",
    "\n",
    "[Here](https://github.com/FairyOnIce/SavePrinceGame/blob/756d3996bb832f2676ac1d46f33780d8e1c7eb85/SavePrince.py#L285-L302)\n",
    "\n",
    "\n",
    "### The game is 400 x 400 pixcels\n",
    "You can specify the number of pixcels by specifying npix_x and npix_y inputs of the SavePrince object. But the game display is really defined in the line:\n",
    "\n",
    "[Here](https://github.com/FairyOnIce/SavePrinceGame/blob/756d3996bb832f2676ac1d46f33780d8e1c7eb85/SavePrince.py#L386)\n",
    "\n",
    "### The snake monster hunts you down. \n",
    "I added this functionality to make the game more challenging. \n",
    "It will always move toward you. For example, if you are on the right of the snake monster and above it, then the snake monster will go up or right. The decision of going up or going right is based on randomness.\n",
    "\n",
    "[Defined here](https://github.com/FairyOnIce/SavePrinceGame/blob/756d3996bb832f2676ac1d46f33780d8e1c7eb85/SavePrince.py#L112-L124)\n",
    "\n",
    "### The snake monster appears around prince. \n",
    "This is another fuctionality to make the game more challenging. While you want to go closer to prince, you need to avoid the snake that is around the prince.\n",
    "\n",
    "[Defined ere](https://github.com/FairyOnIce/SavePrinceGame/blob/756d3996bb832f2676ac1d46f33780d8e1c7eb85/SavePrince.py#L63-L64)\n",
    "\n",
    "### The speed of the snake monster increases when it moves toward the same direction consequtively.\n",
    "Even if the snake seems to be far away from you, it will get you really quick if the snake is on the same row or on the same column.\n",
    "\n",
    "[Defined here for princess](https://github.com/FairyOnIce/SavePrinceGame/blob/756d3996bb832f2676ac1d46f33780d8e1c7eb85/SavePrince.py#L135-L149)\n",
    "\n",
    "[Defined here for the snake monster](https://github.com/FairyOnIce/SavePrinceGame/blob/756d3996bb832f2676ac1d46f33780d8e1c7eb85/SavePrince.py#L205-L216)\n"
   ]
  },
  {
   "cell_type": "markdown",
   "metadata": {},
   "source": [
    "## How to play the game?\n",
    "To run the game, download the whole SavePrinceGame repository, pip install pygame, and then within the SavePrinceGame repository and on your terminal, type:\n",
    "```\n",
    "python2 SavePrince.py\n",
    "```\n"
   ]
  }
 ],
 "metadata": {
  "kernelspec": {
   "display_name": "Python 3",
   "language": "python",
   "name": "python3"
  },
  "language_info": {
   "codemirror_mode": {
    "name": "ipython",
    "version": 3.0
   },
   "file_extension": ".py",
   "mimetype": "text/x-python",
   "name": "python",
   "nbconvert_exporter": "python",
   "pygments_lexer": "ipython3",
   "version": "3.6.3"
  }
 },
 "nbformat": 4,
 "nbformat_minor": 0
}